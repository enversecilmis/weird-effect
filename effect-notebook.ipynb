{
 "cells": [
  {
   "cell_type": "code",
   "execution_count": 2,
   "metadata": {},
   "outputs": [],
   "source": [
    "from PIL import Image\n",
    "import cv2 as cv\n",
    "from effect import applyEffect"
   ]
  },
  {
   "cell_type": "code",
   "execution_count": 5,
   "metadata": {},
   "outputs": [],
   "source": [
    "img = Image.open(\"images/test.png\")"
   ]
  },
  {
   "cell_type": "code",
   "execution_count": 6,
   "metadata": {},
   "outputs": [],
   "source": [
    "newimg = applyEffect(img, 12, 8)"
   ]
  },
  {
   "cell_type": "code",
   "execution_count": 3,
   "metadata": {},
   "outputs": [
    {
     "data": {
      "text/plain": [
       "array([[[128, 237, 196],\n",
       "        [128, 237, 196],\n",
       "        [128, 237, 196],\n",
       "        ...,\n",
       "        [181, 245, 220],\n",
       "        [181, 245, 220],\n",
       "        [181, 245, 220]],\n",
       "\n",
       "       [[128, 237, 196],\n",
       "        [128, 237, 196],\n",
       "        [128, 237, 196],\n",
       "        ...,\n",
       "        [181, 245, 220],\n",
       "        [181, 245, 220],\n",
       "        [181, 245, 220]],\n",
       "\n",
       "       [[128, 237, 196],\n",
       "        [128, 237, 196],\n",
       "        [128, 237, 196],\n",
       "        ...,\n",
       "        [181, 245, 220],\n",
       "        [181, 245, 220],\n",
       "        [181, 245, 220]],\n",
       "\n",
       "       ...,\n",
       "\n",
       "       [[181, 245, 220],\n",
       "        [181, 245, 220],\n",
       "        [181, 245, 220],\n",
       "        ...,\n",
       "        [128, 237, 196],\n",
       "        [128, 237, 196],\n",
       "        [128, 237, 196]],\n",
       "\n",
       "       [[181, 245, 220],\n",
       "        [181, 245, 220],\n",
       "        [181, 245, 220],\n",
       "        ...,\n",
       "        [128, 237, 196],\n",
       "        [128, 237, 196],\n",
       "        [128, 237, 196]],\n",
       "\n",
       "       [[181, 245, 220],\n",
       "        [181, 245, 220],\n",
       "        [181, 245, 220],\n",
       "        ...,\n",
       "        [128, 237, 196],\n",
       "        [128, 237, 196],\n",
       "        [128, 237, 196]]], dtype=uint8)"
      ]
     },
     "execution_count": 3,
     "metadata": {},
     "output_type": "execute_result"
    }
   ],
   "source": [
    "ogimg = cv.imread(\"images/test.png\")\n",
    "grayImage = cv.cvtColor(ogimg, cv.COLOR_BGR2GRAY)\n",
    "ogimg"
   ]
  },
  {
   "cell_type": "code",
   "execution_count": 15,
   "metadata": {},
   "outputs": [],
   "source": [
    "img = Image.open(\"images/test.png\")\n",
    "gimg = img.convert(\"L\")"
   ]
  }
 ],
 "metadata": {
  "interpreter": {
   "hash": "e7370f93d1d0cde622a1f8e1c04877d8463912d04d973331ad4851f04de6915a"
  },
  "kernelspec": {
   "display_name": "Python 3.10.0 64-bit",
   "language": "python",
   "name": "python3"
  },
  "language_info": {
   "codemirror_mode": {
    "name": "ipython",
    "version": 3
   },
   "file_extension": ".py",
   "mimetype": "text/x-python",
   "name": "python",
   "nbconvert_exporter": "python",
   "pygments_lexer": "ipython3",
   "version": "3.10.0"
  },
  "orig_nbformat": 4
 },
 "nbformat": 4,
 "nbformat_minor": 2
}
